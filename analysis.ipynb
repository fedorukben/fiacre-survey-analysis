{
 "cells": [
  {
   "cell_type": "code",
   "execution_count": 6,
   "id": "92ec4268",
   "metadata": {},
   "outputs": [
    {
     "name": "stdout",
     "output_type": "stream",
     "text": [
      "Defaulting to user installation because normal site-packages is not writeable\n",
      "Requirement already satisfied: numpy in /home/ben/.local/lib/python3.9/site-packages (1.21.2)\n",
      "Requirement already satisfied: matplotlib in /home/ben/.local/lib/python3.9/site-packages (3.4.3)\n",
      "Requirement already satisfied: pandas in /home/ben/.local/lib/python3.9/site-packages (1.3.3)\n",
      "Requirement already satisfied: pyparsing>=2.2.1 in /usr/lib/python3.9/site-packages (from matplotlib) (2.4.7)\n",
      "Requirement already satisfied: kiwisolver>=1.0.1 in /home/ben/.local/lib/python3.9/site-packages (from matplotlib) (1.3.2)\n",
      "Requirement already satisfied: python-dateutil>=2.7 in /usr/lib/python3.9/site-packages (from matplotlib) (2.8.2)\n",
      "Requirement already satisfied: cycler>=0.10 in /home/ben/.local/lib/python3.9/site-packages (from matplotlib) (0.10.0)\n",
      "Requirement already satisfied: pillow>=6.2.0 in /usr/lib/python3.9/site-packages (from matplotlib) (8.3.2)\n",
      "Requirement already satisfied: six in /usr/lib/python3.9/site-packages (from cycler>=0.10->matplotlib) (1.16.0)\n",
      "Requirement already satisfied: pytz>=2017.3 in /home/ben/.local/lib/python3.9/site-packages (from pandas) (2021.3)\n"
     ]
    }
   ],
   "source": [
    "!pip install numpy matplotlib pandas"
   ]
  },
  {
   "cell_type": "code",
   "execution_count": 7,
   "id": "8397afa9",
   "metadata": {},
   "outputs": [],
   "source": [
    "import numpy as np\n",
    "import matplotlib.pyplot as plt\n",
    "import pandas as pd\n",
    "import re"
   ]
  },
  {
   "cell_type": "code",
   "execution_count": 51,
   "id": "4651d739",
   "metadata": {},
   "outputs": [
    {
     "name": "stdout",
     "output_type": "stream",
     "text": [
      "<bound method DataFrame.info of     postal car_access\n",
      "1      P0T        Yes\n",
      "2      P0L        Yes\n",
      "5      P7C         No\n",
      "6      P7C        Yes\n",
      "7      P0t        Yes\n",
      "..     ...        ...\n",
      "673    P7C         No\n",
      "674    P7C        Yes\n",
      "675    P7C         No\n",
      "676    P7c        Yes\n",
      "677    P7C        Yes\n",
      "\n",
      "[256 rows x 2 columns]>\n",
      "{'y': 208, 'n': 48}\n",
      "<built-in method values of dict object at 0x7efea843aa00>\n"
     ]
    },
    {
     "data": {
      "text/plain": [
       "([<matplotlib.patches.Wedge at 0x7efea837be20>,\n",
       "  <matplotlib.patches.Wedge at 0x7efea8364670>],\n",
       " [Text(-0.9146165735327999, 0.6111272563215624, 'Yes'),\n",
       "  Text(0.9146165735327998, -0.6111272563215624, 'No')],\n",
       " [Text(-0.4988817673815272, 0.3333421398117613, '81.25'),\n",
       "  Text(0.4988817673815271, -0.3333421398117613, '18.75')])"
      ]
     },
     "execution_count": 51,
     "metadata": {},
     "output_type": "execute_result"
    },
    {
     "data": {
      "image/png": "[encoded data removed]",
      "text/plain": [
       "<Figure size 432x288 with 1 Axes>"
      ]
     },
     "metadata": {},
     "output_type": "display_data"
    }
   ],
   "source": [
    "df = pd.read_csv('survey.csv')\n",
    "df = df[['postal', 'car_access']]\n",
    "df = df.dropna()\n",
    "\n",
    "for idx, row in df.iterrows():\n",
    "    if str(row['postal']).strip()[0] not in ['p', 'P']:\n",
    "        df = df.drop(idx)\n",
    "print(df.info)\n",
    "\n",
    "car_data = {'y': 0,'n': 0}\n",
    "for idx, row in df.iterrows():\n",
    "    if str(row['car_access']) == 'Yes':\n",
    "        car_data['y'] += 1\n",
    "    else:\n",
    "        car_data['n'] += 1\n",
    "print(car_data)\n",
    "\n",
    "print(car_data.values)\n",
    "plt.title(\"Do you have access to a car?\")\n",
    "plt.pie(list(car_data.values()), labels=['Yes', 'No'], autopct=\"%.2f\")"
   ]
  },
  {
   "cell_type": "code",
   "execution_count": null,
   "id": "ab8d3c15",
   "metadata": {},
   "outputs": [],
   "source": []
  }
 ],
 "metadata": {
  "kernelspec": {
   "display_name": "Python 3 (ipykernel)",
   "language": "python",
   "name": "python3"
  },
  "language_info": {
   "codemirror_mode": {
    "name": "ipython",
    "version": 3
   },
   "file_extension": ".py",
   "mimetype": "text/x-python",
   "name": "python",
   "nbconvert_exporter": "python",
   "pygments_lexer": "ipython3",
   "version": "3.9.7"
  }
 },
 "nbformat": 4,
 "nbformat_minor": 5
}
